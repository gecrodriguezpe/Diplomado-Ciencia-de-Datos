{
 "cells": [
  {
   "cell_type": "markdown",
   "id": "db3a8306",
   "metadata": {},
   "source": [
    "# Clase tipo 2 - Diplomado ciencia de datos"
   ]
  },
  {
   "cell_type": "markdown",
   "id": "9d009ba5",
   "metadata": {},
   "source": [
    "## Descripción preliminar del documento"
   ]
  },
  {
   "cell_type": "code",
   "execution_count": 4,
   "id": "cd899d13",
   "metadata": {},
   "outputs": [],
   "source": [
    "#Tarea 4 - Diplomado Ciencia de datos\n",
    "#Autor: Germán Camilo Rodríguez Perilla\n",
    "#Clase2: Objeto con funcionalidades sobre una base de datos "
   ]
  },
  {
   "cell_type": "markdown",
   "id": "b80c1aab",
   "metadata": {},
   "source": [
    "## Especificación de los paquetes a usar y del directorio de trabajo "
   ]
  },
  {
   "cell_type": "code",
   "execution_count": 1,
   "id": "3b9becd0",
   "metadata": {},
   "outputs": [],
   "source": [
    "# Importación de bibliotecas\n",
    "import pandas as pd\n",
    "import os \n",
    "import matplotlib.pyplot as plt\n",
    "\n",
    "# Dirección del directorio de trabajo\n",
    "directory = os.path.expanduser('~/Documents/DIplomados/Diplomado-Ciencia-de-Datos/Tarea4')\n",
    "\n",
    "# Especificar el directorio de trabajo donde se encuentra la base de datos \n",
    "os.chdir(directory)"
   ]
  },
  {
   "cell_type": "markdown",
   "id": "0430d711",
   "metadata": {},
   "source": [
    "## Definición de la clase *DescripcionBaseDatos*"
   ]
  },
  {
   "cell_type": "code",
   "execution_count": 2,
   "id": "dcfe8683",
   "metadata": {},
   "outputs": [],
   "source": [
    "class DescripcionBaseDatos:\n",
    "    \n",
    "    def __init__(self, nombre_datos):\n",
    "        \n",
    "        # Se importa directamente la base de datos para leer\n",
    "        self.datos = pd.read_csv(nombre_datos)    \n",
    "\n",
    "    # Función para generar estadística descriptivas sobre la base de datos \n",
    "    def estadistica_desciptivas(self):\n",
    "        if self.datos is not None:\n",
    "            return self.datos.describe()\n",
    "        else:\n",
    "            return None\n",
    "\n",
    "    # Función para recuperar los nombres de las variables dentro de la base de datos\n",
    "    def nombre_variables(self):\n",
    "        if self.datos is not None:\n",
    "            return list(self.datos.columns)\n",
    "        else:\n",
    "            return None\n",
    "\n",
    "    # Función para analizar variables \n",
    "    def analizar_variables(self, nombre_variable):\n",
    "        if self.datos is not None:\n",
    "            if nombre_variable in self.datos.columns:\n",
    "                variable_data = self.datos[nombre_variable]\n",
    "                estadisticos = {\n",
    "                    \"Media\": variable_data.mean(),\n",
    "                    \"Mediana\": variable_data.median(),\n",
    "                    \"Desviación estándar\": variable_data.std(),\n",
    "                    \"Pecentil q25\": variable_data.quantile(0.25),\n",
    "                    \"Pecentil q50\": variable_data.median(),\n",
    "                    \"Pecentil q75\": variable_data.quantile(0.75),\n",
    "                }\n",
    "\n",
    "                # Graficació del histograma\n",
    "                plt.figure(figsize=(8, 6))\n",
    "                plt.hist(variable_data, bins=20, color='skyblue', edgecolor='black')\n",
    "                plt.title(f'Distribución de {nombre_variable}')\n",
    "                plt.xlabel(nombre_variable)\n",
    "                plt.ylabel('Frecuencia')\n",
    "                plt.grid(True)\n",
    "                plt.show()\n",
    "\n",
    "                return estadisticos\n",
    "            else:\n",
    "                return f\"Variable '{nombre_variable}' no se encuentra en la base de datos.\"\n",
    "        else:\n",
    "            return \"DataFrame no está disponible.\""
   ]
  },
  {
   "cell_type": "markdown",
   "id": "14183d83",
   "metadata": {},
   "source": [
    "## Prueba de la clase *DescripcionBaseDatos*"
   ]
  },
  {
   "cell_type": "code",
   "execution_count": 3,
   "id": "2fd97788",
   "metadata": {},
   "outputs": [
    {
     "data": {
      "image/png": "[encoded data removed]",
      "text/plain": [
       "<Figure size 800x600 with 1 Axes>"
      ]
     },
     "metadata": {},
     "output_type": "display_data"
    },
    {
     "data": {
      "text/plain": [
       "{'Media': 3.0573333333333337,\n",
       " 'Mediana': 3.0,\n",
       " 'Desviación estándar': 0.435866284936698,\n",
       " 'Pecentil q25': 2.8,\n",
       " 'Pecentil q50': 3.0,\n",
       " 'Pecentil q75': 3.3}"
      ]
     },
     "execution_count": 3,
     "metadata": {},
     "output_type": "execute_result"
    }
   ],
   "source": [
    "# Creo una instancia de la clase con la base de datos \"iris\"\n",
    "iris_base = DescripcionBaseDatos(\"iris.csv\")\n",
    "\n",
    "# Implementación de un método que calcula estadística descriptivas para cada una de las variables\n",
    "iris_base.estadistica_desciptivas()\n",
    "\n",
    "# Implementación de un método que entregue los nombres de las variables disponibles\n",
    "iris_base.nombre_variables()\n",
    "\n",
    "# Implementación del método que recibe el nombre de la variable y cálcula estadística descriptivas, \n",
    "# así como realiza un histograma de la distribución de la variable. Se analiza la variable \"sepal.width\"\n",
    "iris_base.analizar_variables(\"sepal.width\")    "
   ]
  },
  {
   "cell_type": "code",
   "execution_count": null,
   "id": "a3d62f9e",
   "metadata": {},
   "outputs": [],
   "source": []
  }
 ],
 "metadata": {
  "kernelspec": {
   "display_name": "Python 3 (ipykernel)",
   "language": "python",
   "name": "python3"
  },
  "language_info": {
   "codemirror_mode": {
    "name": "ipython",
    "version": 3
   },
   "file_extension": ".py",
   "mimetype": "text/x-python",
   "name": "python",
   "nbconvert_exporter": "python",
   "pygments_lexer": "ipython3",
   "version": "3.11.4"
  }
 },
 "nbformat": 4,
 "nbformat_minor": 5
}
